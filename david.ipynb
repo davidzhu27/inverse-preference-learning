{
 "cells": [
  {
   "cell_type": "code",
   "execution_count": 7,
   "metadata": {},
   "outputs": [
    {
     "name": "stdout",
     "output_type": "stream",
     "text": [
      "(48800, 20, 11)\n",
      "(48800, 20, 11)\n",
      "(48800, 20, 3)\n",
      "(48800, 20, 3)\n",
      "(48800,)\n",
      "(100, 100, 11)\n",
      "(100, 100, 11)\n",
      "(100, 100, 3)\n",
      "(100, 100, 3)\n",
      "(100,)\n"
     ]
    }
   ],
   "source": [
    "import numpy as np\n",
    "\n",
    "data = dict(np.load('ipl_hopper-medium-expert-v2_48800_20.npz'))\n",
    "for key in data.keys():\n",
    "    print(data[key].shape)\n",
    "data = dict(np.load('datasets/preference_transformer/hopper-medium-expert-v2/num100_human_train.npz'))\n",
    "for key in data.keys():\n",
    "    print(data[key].shape)"
   ]
  },
  {
   "cell_type": "markdown",
   "metadata": {},
   "source": [
    "command:\n",
    "\n",
    "cd ../inverse-preference-learning; . setup_shell.sh; python scripts/train.py --config configs/gym_locomotion/ipl_iql.yaml --path saved/ipl_iql_hopper_medium_with_Dpref_and_Ddemonstrate2"
   ]
  },
  {
   "cell_type": "code",
   "execution_count": 8,
   "metadata": {},
   "outputs": [
    {
     "name": "stdout",
     "output_type": "stream",
     "text": [
      "(100, 100, 11)\n",
      "(100, 100, 11)\n",
      "(100, 100, 3)\n",
      "(100, 100, 3)\n",
      "(100,)\n"
     ]
    }
   ],
   "source": [
    "for key in data.keys():\n",
    "\n",
    "    print(data[key].shape)"
   ]
  },
  {
   "cell_type": "code",
   "execution_count": 9,
   "metadata": {},
   "outputs": [
    {
     "name": "stdout",
     "output_type": "stream",
     "text": [
      "(100, 100, 11)\n"
     ]
    }
   ],
   "source": [
    "print(data['obs_1'].shape)"
   ]
  }
 ],
 "metadata": {
  "kernelspec": {
   "display_name": "base",
   "language": "python",
   "name": "python3"
  },
  "language_info": {
   "codemirror_mode": {
    "name": "ipython",
    "version": 3
   },
   "file_extension": ".py",
   "mimetype": "text/x-python",
   "name": "python",
   "nbconvert_exporter": "python",
   "pygments_lexer": "ipython3",
   "version": "3.10.14"
  }
 },
 "nbformat": 4,
 "nbformat_minor": 2
}
